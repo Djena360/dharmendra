{
 "cells": [
  {
   "cell_type": "code",
   "execution_count": 5,
   "id": "c0d70668",
   "metadata": {},
   "outputs": [
    {
     "name": "stdout",
     "output_type": "stream",
     "text": [
      "No. of Upper case characters :  3\n",
      "No. of Lower case characters :  12\n"
     ]
    }
   ],
   "source": [
    "def casecalculate(string):\n",
    "    u=0\n",
    "    l=0\n",
    "    string=string.replace(' ','')\n",
    "    for char in string:\n",
    "        if char.isupper():\n",
    "            u+=1\n",
    "        else:\n",
    "            l+=1\n",
    "    print('No. of Upper case characters : ',u)\n",
    "    print('No. of Lower case characters : ',l)\n",
    "s='The quick Brow Fox'\n",
    "casecalculate(s)"
   ]
  },
  {
   "cell_type": "code",
   "execution_count": null,
   "id": "4337c3f4",
   "metadata": {},
   "outputs": [],
   "source": []
  },
  {
   "cell_type": "code",
   "execution_count": null,
   "id": "373e8593",
   "metadata": {},
   "outputs": [],
   "source": []
  }
 ],
 "metadata": {
  "kernelspec": {
   "display_name": "Python 3",
   "language": "python",
   "name": "python3"
  },
  "language_info": {
   "codemirror_mode": {
    "name": "ipython",
    "version": 3
   },
   "file_extension": ".py",
   "mimetype": "text/x-python",
   "name": "python",
   "nbconvert_exporter": "python",
   "pygments_lexer": "ipython3",
   "version": "3.8.8"
  }
 },
 "nbformat": 4,
 "nbformat_minor": 5
}
