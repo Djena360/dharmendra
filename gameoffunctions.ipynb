{
 "cells": [
  {
   "cell_type": "code",
   "execution_count": 1,
   "id": "d4cfd3bf",
   "metadata": {},
   "outputs": [],
   "source": [
    "def sum_list(list):\n",
    "    return sum(list)"
   ]
  },
  {
   "cell_type": "code",
   "execution_count": 2,
   "id": "02cd8637",
   "metadata": {},
   "outputs": [
    {
     "data": {
      "text/plain": [
       "20"
      ]
     },
     "execution_count": 2,
     "metadata": {},
     "output_type": "execute_result"
    }
   ],
   "source": [
    "li=[8,2,3,0,7]\n",
    "sum_list(li)"
   ]
  },
  {
   "cell_type": "code",
   "execution_count": null,
   "id": "bc2623f1",
   "metadata": {},
   "outputs": [],
   "source": []
  }
 ],
 "metadata": {
  "kernelspec": {
   "display_name": "Python 3",
   "language": "python",
   "name": "python3"
  },
  "language_info": {
   "codemirror_mode": {
    "name": "ipython",
    "version": 3
   },
   "file_extension": ".py",
   "mimetype": "text/x-python",
   "name": "python",
   "nbconvert_exporter": "python",
   "pygments_lexer": "ipython3",
   "version": "3.8.8"
  }
 },
 "nbformat": 4,
 "nbformat_minor": 5
}
