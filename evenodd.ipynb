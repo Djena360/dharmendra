{
 "cells": [
  {
   "cell_type": "code",
   "execution_count": 9,
   "id": "ba3b67d6",
   "metadata": {},
   "outputs": [
    {
     "name": "stdout",
     "output_type": "stream",
     "text": [
      "Enter number of elements in list4\n",
      "1\n",
      "2\n",
      "3\n",
      "4\n",
      "Number of even numbers:2\n",
      "Number of odd numbers:2\n"
     ]
    }
   ],
   "source": [
    "list=[]\n",
    "n=int(input(\"Enter number of elements in list\"))\n",
    "for i in range(0,n):\n",
    "    ele=int(input())\n",
    "    list.append(ele)\n",
    "e=0\n",
    "o=0\n",
    "for i in list:\n",
    "    if i%2 == 0:\n",
    "        e=e+1\n",
    "    else:\n",
    "        o=o+1\n",
    "print('Number of even numbers:{}'.format(e))\n",
    "print('Number of odd numbers:{}'.format(o))"
   ]
  },
  {
   "cell_type": "code",
   "execution_count": null,
   "id": "935c9b72",
   "metadata": {},
   "outputs": [],
   "source": []
  },
  {
   "cell_type": "code",
   "execution_count": null,
   "id": "f8177249",
   "metadata": {},
   "outputs": [],
   "source": []
  }
 ],
 "metadata": {
  "kernelspec": {
   "display_name": "Python 3",
   "language": "python",
   "name": "python3"
  },
  "language_info": {
   "codemirror_mode": {
    "name": "ipython",
    "version": 3
   },
   "file_extension": ".py",
   "mimetype": "text/x-python",
   "name": "python",
   "nbconvert_exporter": "python",
   "pygments_lexer": "ipython3",
   "version": "3.8.8"
  }
 },
 "nbformat": 4,
 "nbformat_minor": 5
}
