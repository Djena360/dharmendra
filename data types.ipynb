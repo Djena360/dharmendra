{
 "cells": [
  {
   "cell_type": "code",
   "execution_count": 1,
   "id": "81085201",
   "metadata": {},
   "outputs": [],
   "source": [
    "myname='Vasu'\n"
   ]
  },
  {
   "cell_type": "code",
   "execution_count": 2,
   "id": "3b162af0",
   "metadata": {},
   "outputs": [
    {
     "data": {
      "text/plain": [
       "'Vasu'"
      ]
     },
     "execution_count": 2,
     "metadata": {},
     "output_type": "execute_result"
    }
   ],
   "source": [
    "myname"
   ]
  },
  {
   "cell_type": "code",
   "execution_count": null,
   "id": "63487062",
   "metadata": {},
   "outputs": [],
   "source": []
  }
 ],
 "metadata": {
  "kernelspec": {
   "display_name": "Python 3",
   "language": "python",
   "name": "python3"
  },
  "language_info": {
   "codemirror_mode": {
    "name": "ipython",
    "version": 3
   },
   "file_extension": ".py",
   "mimetype": "text/x-python",
   "name": "python",
   "nbconvert_exporter": "python",
   "pygments_lexer": "ipython3",
   "version": "3.8.8"
  }
 },
 "nbformat": 4,
 "nbformat_minor": 5
}
